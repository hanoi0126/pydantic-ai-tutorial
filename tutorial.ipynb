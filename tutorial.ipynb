{
 "cells": [
  {
   "cell_type": "code",
   "execution_count": 1,
   "metadata": {},
   "outputs": [],
   "source": [
    "# setting\n",
    "import nest_asyncio\n",
    "from dotenv import load_dotenv\n",
    "\n",
    "load_dotenv()\n",
    "\n",
    "# jupyter notebook 上で非同期コードを実行するために必要\n",
    "nest_asyncio.apply()"
   ]
  },
  {
   "cell_type": "markdown",
   "metadata": {},
   "source": [
    "### **Agents**\n",
    "https://ai.pydantic.dev/agents/#introduction"
   ]
  },
  {
   "cell_type": "code",
   "execution_count": null,
   "metadata": {},
   "outputs": [],
   "source": [
    "from pydantic_ai import Agent, RunContext\n",
    "\n",
    "roulette_agent = Agent(  \n",
    "    'openai:gpt-4o',\n",
    "    deps_type=int,\n",
    "    result_type=bool,\n",
    "    system_prompt=(\n",
    "        'Use the `roulette_wheel` function to see if the '\n",
    "        'customer has won based on the number they provide.'\n",
    "    ),\n",
    ")\n",
    "\n",
    "\n",
    "@roulette_agent.tool\n",
    "async def roulette_wheel(ctx: RunContext[int], square: int) -> str:  \n",
    "    \"\"\"check if the square is a winner\"\"\"\n",
    "    return 'winner' if square == ctx.deps else 'loser'\n",
    "\n",
    "\n",
    "# Run the agent\n",
    "success_number = 18  \n",
    "result = roulette_agent.run_sync('Put my money on square eighteen', deps=success_number)\n",
    "print(result)\n",
    "print(result.data)  \n",
    "#> True\n",
    "\n",
    "result = roulette_agent.run_sync('I bet five is the winner', deps=success_number)\n",
    "print(result)\n",
    "print(result.data)\n",
    "#> False"
   ]
  },
  {
   "cell_type": "code",
   "execution_count": null,
   "metadata": {},
   "outputs": [],
   "source": [
    "print(result.cost())"
   ]
  },
  {
   "cell_type": "markdown",
   "metadata": {},
   "source": [
    "### **Results**\n",
    "https://ai.pydantic.dev/results/#result-validators-functions"
   ]
  },
  {
   "cell_type": "code",
   "execution_count": null,
   "metadata": {},
   "outputs": [],
   "source": [
    "from typing import Union\n",
    "\n",
    "from pydantic import BaseModel\n",
    "from pydantic_ai import Agent, RunContext, ModelRetry\n",
    "\n",
    "class QueryError(Exception):\n",
    "    pass\n",
    "\n",
    "class DatabaseConn:\n",
    "    async def execute(self, query: str) -> None:\n",
    "        if 'DROP' in query:\n",
    "            raise QueryError('DROP is not allowed')\n",
    "        print(f'Executing: {query}')\n",
    "\n",
    "class Success(BaseModel):\n",
    "    sql_query: str\n",
    "\n",
    "class InvalidRequest(BaseModel):\n",
    "    error_message: str\n",
    "\n",
    "Response = Union[Success, InvalidRequest]\n",
    "agent: Agent[DatabaseConn, Response] = Agent(\n",
    "    'gemini-1.5-flash',\n",
    "    result_type=Response,  # type: ignore\n",
    "    deps_type=DatabaseConn,\n",
    "    system_prompt='ユーザー入力に基づいてPostgreSQL風のSQLクエリを生成してください。',\n",
    ")\n",
    "\n",
    "@agent.result_validator\n",
    "async def validate_result(ctx: RunContext[DatabaseConn], result: Response) -> Response:\n",
    "    if isinstance(result, InvalidRequest):\n",
    "        return result\n",
    "    try:\n",
    "        await ctx.deps.execute(f'EXPLAIN {result.sql_query}')\n",
    "    except QueryError as e:\n",
    "        raise ModelRetry(f'Invalid query: {e}') from e\n",
    "    finally:\n",
    "        return result\n",
    "\n",
    "result = agent.run_sync(\n",
    "    '昨日アクティブだったユーザーを取得してください。', deps=DatabaseConn()\n",
    ")\n",
    "print(result.data)\n",
    "#> sql_query='SELECT * FROM users WHERE last_active::date = today() - interval 1 day'"
   ]
  },
  {
   "cell_type": "code",
   "execution_count": null,
   "metadata": {},
   "outputs": [],
   "source": [
    "print(result.all_messages())"
   ]
  },
  {
   "cell_type": "markdown",
   "metadata": {},
   "source": [
    "### **System Prompts**\n",
    "https://ai.pydantic.dev/agents/#system-prompts"
   ]
  },
  {
   "cell_type": "code",
   "execution_count": null,
   "metadata": {},
   "outputs": [],
   "source": [
    "from datetime import date\n",
    "\n",
    "from pydantic_ai import Agent, RunContext\n",
    "\n",
    "agent = Agent(\n",
    "    'openai:gpt-4o',\n",
    "    deps_type=str,\n",
    "    system_prompt=\"顧客の名前を使って返信してください。\",\n",
    ")\n",
    "\n",
    "@agent.system_prompt\n",
    "def add_the_users_name(ctx: RunContext[str]) -> str:\n",
    "    return f\"ユーザーの名前は {ctx.deps} です。\"\n",
    "\n",
    "@agent.system_prompt\n",
    "def add_the_date() -> str:\n",
    "    return f'今日の日付は {date.today()} です。'\n",
    "\n",
    "result = agent.run_sync('今日の日付は何ですか？', deps='Frank')\n",
    "print(result.data)\n",
    "#> 今日の日付は 2024-12-09 です。"
   ]
  },
  {
   "cell_type": "code",
   "execution_count": null,
   "metadata": {},
   "outputs": [],
   "source": [
    "import pprint\n",
    "\n",
    "pprint.pprint(result.all_messages())"
   ]
  },
  {
   "cell_type": "markdown",
   "metadata": {},
   "source": [
    "### **Tools**\n",
    "https://ai.pydantic.dev/tools/"
   ]
  },
  {
   "cell_type": "code",
   "execution_count": null,
   "metadata": {},
   "outputs": [],
   "source": [
    "import random\n",
    "\n",
    "from pydantic_ai import Agent, RunContext\n",
    "\n",
    "agent = Agent(\n",
    "    'gemini-1.5-flash',\n",
    "    deps_type=str,\n",
    "    system_prompt=(\n",
    "        \"あなたはサイコロゲームです。サイコロを振って出た数字がユーザーの予想と一致するか確認してください。\"\n",
    "        \"一致した場合は、ユーザーに勝者であることを伝えてください。\"\n",
    "        \"返答にはプレイヤーの名前を使用してください。\"\n",
    "    ),\n",
    ")\n",
    "\n",
    "@agent.tool_plain\n",
    "def roll_die() -> str:\n",
    "    \"\"\"サイコロを振って出た数字を返してください。\"\"\"\n",
    "    return str(random.randint(1, 6))\n",
    "\n",
    "@agent.tool\n",
    "def get_player_name(ctx: RunContext[str]) -> str:\n",
    "    \"\"\"ユーザーの名前を返してください。\"\"\"\n",
    "    return ctx.deps\n",
    "\n",
    "dice_result = agent.run_sync('私の予想は4です', deps='Anne')\n",
    "print(dice_result.data)\n",
    "#> サイコロを振って出た数字は 4 です。\n",
    "#> あなたは勝者です！"
   ]
  },
  {
   "cell_type": "code",
   "execution_count": null,
   "metadata": {},
   "outputs": [],
   "source": [
    "import pprint\n",
    "\n",
    "pprint.pprint(dice_result.all_messages())"
   ]
  },
  {
   "cell_type": "markdown",
   "metadata": {},
   "source": [
    "### **Multi-Turn**"
   ]
  },
  {
   "cell_type": "code",
   "execution_count": null,
   "metadata": {},
   "outputs": [],
   "source": [
    "from pydantic_ai import Agent\n",
    "\n",
    "agent = Agent('openai:gpt-4o')\n",
    "\n",
    "messages = []\n",
    "\n",
    "for _ in range(10):\n",
    "    user_input = input(\"USER: \")\n",
    "    if user_input.lower() == 'quit':\n",
    "        print(\"チャットを終了します。さようなら。\")\n",
    "        break\n",
    "\n",
    "    result = agent.run_sync(user_input, message_history=messages)\n",
    "    print(\"ASSISTANT:\", result.data)\n",
    "    \n",
    "    messages = result.all_messages()"
   ]
  },
  {
   "cell_type": "code",
   "execution_count": null,
   "metadata": {},
   "outputs": [],
   "source": []
  }
 ],
 "metadata": {
  "kernelspec": {
   "display_name": ".venv",
   "language": "python",
   "name": "python3"
  },
  "language_info": {
   "codemirror_mode": {
    "name": "ipython",
    "version": 3
   },
   "file_extension": ".py",
   "mimetype": "text/x-python",
   "name": "python",
   "nbconvert_exporter": "python",
   "pygments_lexer": "ipython3",
   "version": "3.10.11"
  }
 },
 "nbformat": 4,
 "nbformat_minor": 2
}
